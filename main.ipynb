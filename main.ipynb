{
 "cells": [
  {
   "cell_type": "markdown",
   "metadata": {},
   "source": [
    "### Instagram Profile Data Extraction\n"
   ]
  },
  {
   "cell_type": "code",
   "execution_count": 12,
   "metadata": {},
   "outputs": [
    {
     "name": "stdout",
     "output_type": "stream",
     "text": [
      "Defaulting to user installation because normal site-packages is not writeable\n",
      "Requirement already satisfied: instaloader in c:\\users\\lavan\\appdata\\local\\packages\\pythonsoftwarefoundation.python.3.13_qbz5n2kfra8p0\\localcache\\local-packages\\python312\\site-packages (4.13.2)\n",
      "Requirement already satisfied: matplotlib in c:\\users\\lavan\\appdata\\local\\packages\\pythonsoftwarefoundation.python.3.13_qbz5n2kfra8p0\\localcache\\local-packages\\python312\\site-packages (3.9.2)\n",
      "Requirement already satisfied: numpy in c:\\users\\lavan\\appdata\\local\\packages\\pythonsoftwarefoundation.python.3.13_qbz5n2kfra8p0\\localcache\\local-packages\\python312\\site-packages (2.1.3)\n",
      "Requirement already satisfied: requests>=2.4 in c:\\users\\lavan\\appdata\\local\\packages\\pythonsoftwarefoundation.python.3.13_qbz5n2kfra8p0\\localcache\\local-packages\\python312\\site-packages (from instaloader) (2.32.3)\n",
      "Requirement already satisfied: contourpy>=1.0.1 in c:\\users\\lavan\\appdata\\local\\packages\\pythonsoftwarefoundation.python.3.13_qbz5n2kfra8p0\\localcache\\local-packages\\python312\\site-packages (from matplotlib) (1.3.0)\n",
      "Requirement already satisfied: cycler>=0.10 in c:\\users\\lavan\\appdata\\local\\packages\\pythonsoftwarefoundation.python.3.13_qbz5n2kfra8p0\\localcache\\local-packages\\python312\\site-packages (from matplotlib) (0.12.1)\n",
      "Requirement already satisfied: fonttools>=4.22.0 in c:\\users\\lavan\\appdata\\local\\packages\\pythonsoftwarefoundation.python.3.13_qbz5n2kfra8p0\\localcache\\local-packages\\python312\\site-packages (from matplotlib) (4.54.1)\n",
      "Requirement already satisfied: kiwisolver>=1.3.1 in c:\\users\\lavan\\appdata\\local\\packages\\pythonsoftwarefoundation.python.3.13_qbz5n2kfra8p0\\localcache\\local-packages\\python312\\site-packages (from matplotlib) (1.4.7)\n",
      "Requirement already satisfied: packaging>=20.0 in c:\\users\\lavan\\appdata\\local\\packages\\pythonsoftwarefoundation.python.3.13_qbz5n2kfra8p0\\localcache\\local-packages\\python312\\site-packages (from matplotlib) (24.1)\n",
      "Requirement already satisfied: pillow>=8 in c:\\users\\lavan\\appdata\\local\\packages\\pythonsoftwarefoundation.python.3.13_qbz5n2kfra8p0\\localcache\\local-packages\\python312\\site-packages (from matplotlib) (11.0.0)\n",
      "Requirement already satisfied: pyparsing>=2.3.1 in c:\\users\\lavan\\appdata\\local\\packages\\pythonsoftwarefoundation.python.3.13_qbz5n2kfra8p0\\localcache\\local-packages\\python312\\site-packages (from matplotlib) (3.2.0)\n",
      "Requirement already satisfied: python-dateutil>=2.7 in c:\\users\\lavan\\appdata\\local\\packages\\pythonsoftwarefoundation.python.3.13_qbz5n2kfra8p0\\localcache\\local-packages\\python312\\site-packages (from matplotlib) (2.9.0.post0)\n",
      "Requirement already satisfied: six>=1.5 in c:\\users\\lavan\\appdata\\local\\packages\\pythonsoftwarefoundation.python.3.13_qbz5n2kfra8p0\\localcache\\local-packages\\python312\\site-packages (from python-dateutil>=2.7->matplotlib) (1.16.0)\n",
      "Requirement already satisfied: charset-normalizer<4,>=2 in c:\\users\\lavan\\appdata\\local\\packages\\pythonsoftwarefoundation.python.3.13_qbz5n2kfra8p0\\localcache\\local-packages\\python312\\site-packages (from requests>=2.4->instaloader) (3.4.0)\n",
      "Requirement already satisfied: idna<4,>=2.5 in c:\\users\\lavan\\appdata\\local\\packages\\pythonsoftwarefoundation.python.3.13_qbz5n2kfra8p0\\localcache\\local-packages\\python312\\site-packages (from requests>=2.4->instaloader) (3.10)\n",
      "Requirement already satisfied: urllib3<3,>=1.21.1 in c:\\users\\lavan\\appdata\\local\\packages\\pythonsoftwarefoundation.python.3.13_qbz5n2kfra8p0\\localcache\\local-packages\\python312\\site-packages (from requests>=2.4->instaloader) (2.2.3)\n",
      "Requirement already satisfied: certifi>=2017.4.17 in c:\\users\\lavan\\appdata\\local\\packages\\pythonsoftwarefoundation.python.3.13_qbz5n2kfra8p0\\localcache\\local-packages\\python312\\site-packages (from requests>=2.4->instaloader) (2024.8.30)\n"
     ]
    },
    {
     "name": "stderr",
     "output_type": "stream",
     "text": [
      "\n",
      "[notice] A new release of pip is available: 24.2 -> 24.3.1\n",
      "[notice] To update, run: C:\\Users\\Lavan\\AppData\\Local\\Microsoft\\WindowsApps\\PythonSoftwareFoundation.Python.3.12_qbz5n2kfra8p0\\python.exe -m pip install --upgrade pip\n"
     ]
    }
   ],
   "source": [
    "# Install Required Libraries\n",
    "! pip install instaloader matplotlib numpy\n"
   ]
  },
  {
   "cell_type": "code",
   "execution_count": 13,
   "metadata": {},
   "outputs": [],
   "source": [
    "# Import Required Libraries\n",
    "import instaloader\n",
    "import matplotlib.pyplot as plt\n",
    "from collections import Counter\n",
    "import numpy as np\n",
    "from datetime import datetime\n",
    "\n",
    "# Load Instagram Session Using Session ID\n",
    "def load_instagram_session(session_id):\n",
    "    \"\"\"\n",
    "    Load Instagram session using a session ID provided by the user.\n",
    "    \"\"\"\n",
    "    try:\n",
    "        loader = instaloader.Instaloader()\n",
    "        # Set the session ID directly in the request context\n",
    "        loader.context._session.cookies.set(\"sessionid\", session_id)\n",
    "        return loader\n",
    "    except Exception as e:\n",
    "        print(f\"Error loading session: {e}\")\n",
    "        return None\n"
   ]
  },
  {
   "cell_type": "markdown",
   "metadata": {},
   "source": []
  },
  {
   "cell_type": "code",
   "execution_count": 14,
   "metadata": {},
   "outputs": [],
   "source": [
    "def fetch_profile_data(username, loader):\n",
    "    \"\"\"\n",
    "    Fetch and display basic Instagram profile details.\n",
    "    \"\"\"\n",
    "    try:\n",
    "        profile = instaloader.Profile.from_username(loader.context, username)\n",
    "        print(f\"Profile Name: {profile.full_name}\")\n",
    "        print(f\"Bio: {profile.biography}\")\n",
    "        print(f\"Followers: {profile.followers}\")\n",
    "        print(f\"Following: {profile.followees}\")\n",
    "        return profile\n",
    "    except Exception as e:\n",
    "        print(f\"Error fetching profile data: {e}\")\n",
    "        return None\n"
   ]
  },
  {
   "cell_type": "code",
   "execution_count": 15,
   "metadata": {},
   "outputs": [],
   "source": [
    "def calculate_engagement_rate(likes, comments, followers):\n",
    "    \"\"\"\n",
    "    Calculate engagement rate based on likes, comments, and followers.\n",
    "    \"\"\"\n",
    "    try:\n",
    "        total_engagement = sum(likes) + sum(comments)\n",
    "        engagement_rate = (total_engagement / (followers * len(likes))) * 100\n",
    "        return engagement_rate\n",
    "    except ZeroDivisionError:\n",
    "        return 0\n",
    "\n",
    "def analyze_engagement_rate(profile):\n",
    "    \"\"\"\n",
    "    Analyze the engagement rate of an Instagram profile based on recent posts.\n",
    "    \"\"\"\n",
    "    try:\n",
    "        followers = profile.followers\n",
    "        likes, comments = [], []\n",
    "        for post in profile.get_posts():\n",
    "            likes.append(post.likes)\n",
    "            comments.append(post.comments)\n",
    "            if len(likes) >= 10:  # Limit to recent 10 posts\n",
    "                break\n",
    "        engagement_rate = calculate_engagement_rate(likes, comments, followers)\n",
    "        print(f\"Engagement Rate: {engagement_rate:.2f}%\")\n",
    "        return engagement_rate\n",
    "    except Exception as e:\n",
    "        print(f\"Error calculating engagement rate: {e}\")\n",
    "        return None\n"
   ]
  },
  {
   "cell_type": "code",
   "execution_count": 16,
   "metadata": {},
   "outputs": [],
   "source": [
    "# Define Hashtag Categories\n",
    "HASHTAG_CATEGORIES = {\n",
    "    \"fashion\": [\"fashion\", \"style\", \"ootd\", \"trend\", \"vintage\", \"designer\"],\n",
    "    \"beauty\": [\"beauty\", \"makeup\", \"skincare\", \"cosmetics\", \"beautytips\"],\n",
    "    \"fitness\": [\"fitness\", \"workout\", \"health\", \"gym\", \"exercise\"],\n",
    "    \"travel\": [\"travel\", \"wanderlust\", \"adventure\", \"vacation\", \"destination\"],\n",
    "    \"food\": [\"food\", \"foodie\", \"yum\", \"recipe\", \"cooking\"],\n",
    "}\n",
    "\n",
    "def categorize_influencer_by_hashtags(profile):\n",
    "    \"\"\"\n",
    "    Categorize an influencer based on the hashtags in their posts.\n",
    "    \"\"\"\n",
    "    try:\n",
    "        hashtags = []\n",
    "        for post in profile.get_posts():\n",
    "            hashtags.extend(post.caption_hashtags)\n",
    "            if len(hashtags) >= 50:  # Limit to 50 posts\n",
    "                break\n",
    "\n",
    "        hashtag_counter = Counter(hashtags)\n",
    "        category_count = {category: 0 for category in HASHTAG_CATEGORIES}\n",
    "\n",
    "        for hashtag, count in hashtag_counter.items():\n",
    "            for category, keywords in HASHTAG_CATEGORIES.items():\n",
    "                if hashtag in keywords:\n",
    "                    category_count[category] += count\n",
    "\n",
    "        influencer_type = max(category_count, key=category_count.get)\n",
    "        print(f\"Categorized as a '{influencer_type}' influencer.\")\n",
    "        plot_hashtag_frequency(hashtag_counter)\n",
    "    except Exception as e:\n",
    "        print(f\"Error during categorization: {e}\")\n",
    "\n",
    "def plot_hashtag_frequency(hashtag_counter):\n",
    "    \"\"\"\n",
    "    Plot the frequency of top hashtags.\n",
    "    \"\"\"\n",
    "    common_hashtags = hashtag_counter.most_common(10)\n",
    "    hashtags, counts = zip(*common_hashtags)\n",
    "    plt.figure(figsize=(10, 6))\n",
    "    plt.barh(hashtags, counts, color='skyblue')\n",
    "    plt.xlabel('Frequency')\n",
    "    plt.title('Top 10 Most Frequent Hashtags')\n",
    "    plt.gca().invert_yaxis()\n",
    "    plt.show()\n"
   ]
  },
  {
   "cell_type": "code",
   "execution_count": 17,
   "metadata": {},
   "outputs": [],
   "source": [
    "def estimate_earnings(followers, engagement_rate):\n",
    "    \"\"\"\n",
    "    Estimate earnings per post based on followers and engagement rate.\n",
    "    \"\"\"\n",
    "    rate_per_1000 = 0.10  # $0.10 per 1,000 followers\n",
    "    estimated_earnings = (followers * engagement_rate) / 1000 * rate_per_1000\n",
    "    print(f\"Estimated Earnings: ${estimated_earnings:.2f} per post\")\n",
    "    return estimated_earnings\n"
   ]
  },
  {
   "cell_type": "code",
   "execution_count": 18,
   "metadata": {},
   "outputs": [
    {
     "name": "stdout",
     "output_type": "stream",
     "text": [
      "Profile Name: Shraddha Singh\n",
      "Bio: Engineer & Certified SKINcare Consultant\n",
      "✩ Life & Style with sidekicks @kikiandaani \n",
      "✩ YouTube 2.7M+ | Tiktok 700K+ \n",
      "✩ contact@shrads.com\n",
      "Followers: 1971054\n",
      "Following: 826\n",
      "\n",
      "--- Engagement Rate Analysis ---\n",
      "Engagement Rate: 1.69%\n",
      "\n",
      "--- Hashtag Categorization ---\n",
      "Categorized as a 'fashion' influencer.\n"
     ]
    },
    {
     "data": {
      "image/png": "[encoded data removed]",
      "text/plain": [
       "<Figure size 1000x600 with 1 Axes>"
      ]
     },
     "metadata": {},
     "output_type": "display_data"
    },
    {
     "name": "stdout",
     "output_type": "stream",
     "text": [
      "\n",
      "--- Earnings Estimation ---\n",
      "Estimated Earnings: $333.85 per post\n"
     ]
    }
   ],
   "source": [
    "# Main Function to Analyze an Instagram Profile\n",
    "def instagram_analysis():\n",
    "    \"\"\"\n",
    "    Analyze an Instagram profile for engagement rate, hashtag categorization, \n",
    "    and estimated earnings.\n",
    "    \"\"\"\n",
    "    session_id = input(\"Enter your Instagram session ID: \")\n",
    "    username = input(\"Enter the Instagram username to analyze: \")\n",
    "    \n",
    "    loader = load_instagram_session(session_id)\n",
    "    if not loader:\n",
    "        return\n",
    "    \n",
    "    profile = fetch_profile_data(username, loader)\n",
    "    if not profile:\n",
    "        return\n",
    "    \n",
    "    print(\"\\n--- Engagement Rate Analysis ---\")\n",
    "    engagement_rate = analyze_engagement_rate(profile)\n",
    "    \n",
    "    print(\"\\n--- Hashtag Categorization ---\")\n",
    "    categorize_influencer_by_hashtags(profile)\n",
    "    \n",
    "    print(\"\\n--- Earnings Estimation ---\")\n",
    "    estimate_earnings(profile.followers, engagement_rate)\n",
    "\n",
    "# Run the Analysis\n",
    "instagram_analysis()\n"
   ]
  }
 ],
 "metadata": {
  "kernelspec": {
   "display_name": "Python 3",
   "language": "python",
   "name": "python3"
  },
  "language_info": {
   "codemirror_mode": {
    "name": "ipython",
    "version": 3
   },
   "file_extension": ".py",
   "mimetype": "text/x-python",
   "name": "python",
   "nbconvert_exporter": "python",
   "pygments_lexer": "ipython3",
   "version": "3.13.0"
  }
 },
 "nbformat": 4,
 "nbformat_minor": 2
}
