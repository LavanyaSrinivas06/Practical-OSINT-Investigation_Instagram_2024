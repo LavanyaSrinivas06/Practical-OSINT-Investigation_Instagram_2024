{
 "cells": [
  {
   "cell_type": "markdown",
   "metadata": {},
   "source": [
    "### Install necessary libraries\n"
   ]
  },
  {
   "cell_type": "markdown",
   "metadata": {},
   "source": []
  },
  {
   "cell_type": "code",
   "execution_count": 38,
   "metadata": {},
   "outputs": [
    {
     "name": "stdout",
     "output_type": "stream",
     "text": [
      "Defaulting to user installation because normal site-packages is not writeableNote: you may need to restart the kernel to use updated packages.\n",
      "\n",
      "Requirement already satisfied: numpy in c:\\users\\lavan\\appdata\\local\\packages\\pythonsoftwarefoundation.python.3.13_qbz5n2kfra8p0\\localcache\\local-packages\\python313\\site-packages (2.1.3)\n"
     ]
    }
   ],
   "source": [
    "pip install numpy"
   ]
  },
  {
   "cell_type": "code",
   "execution_count": null,
   "metadata": {},
   "outputs": [],
   "source": [
    "! pip install instaloader matplotlib numpy\n"
   ]
  },
  {
   "cell_type": "markdown",
   "metadata": {},
   "source": [
    "##### Load Session using sessionID to login "
   ]
  },
  {
   "cell_type": "code",
   "execution_count": 40,
   "metadata": {},
   "outputs": [],
   "source": [
    "\n",
    "import instaloader\n",
    "import matplotlib.pyplot as plt\n",
    "from collections import Counter\n",
    "import numpy as np\n",
    "from datetime import datetime\n",
    "from datetime import datetime, timedelta\n",
    " \n",
    "def load_instagram_session(session_id):\n",
    "    \"\"\"\n",
    "    Load Instagram session using a session ID provided by the user.\n",
    "    \"\"\"\n",
    "    try:\n",
    "        loader = instaloader.Instaloader()\n",
    "        loader.context._session.cookies.set(\"sessionid\", session_id)\n",
    "        return loader\n",
    "    except Exception as e:\n",
    "        print(f\"Error loading session: {e}\")\n",
    "        return None\n"
   ]
  },
  {
   "cell_type": "markdown",
   "metadata": {},
   "source": [
    "####  Fetch and display basic Instagram profile details "
   ]
  },
  {
   "cell_type": "code",
   "execution_count": 41,
   "metadata": {},
   "outputs": [],
   "source": [
    "def fetch_profile_data(username, loader):\n",
    "   \n",
    "    try:\n",
    "        profile = instaloader.Profile.from_username(loader.context, username)\n",
    "        print(f\"Profile Name: {profile.full_name}\")\n",
    "        print(f\"Bio: {profile.biography}\")\n",
    "        print(f\"Followers: {profile.followers}\")\n",
    "        print(f\"Following: {profile.followees}\")\n",
    "        return profile\n",
    "    except Exception as e:\n",
    "        print(f\"Error fetching profile data: {e}\")\n",
    "        return None\n"
   ]
  },
  {
   "cell_type": "markdown",
   "metadata": {},
   "source": [
    "#### Calculate engagement rate based on likes, comments, and followers"
   ]
  },
  {
   "cell_type": "code",
   "execution_count": 42,
   "metadata": {},
   "outputs": [],
   "source": [
    "def calculate_engagement_rate(likes, comments, followers):\n",
    "\n",
    "    try:\n",
    "        total_engagement = sum(likes) + sum(comments)\n",
    "        engagement_rate = (total_engagement / (followers * len(likes))) * 100\n",
    "        return engagement_rate\n",
    "    except ZeroDivisionError:\n",
    "        return 0\n",
    "\n",
    "def analyze_engagement_rate(profile):\n",
    "   \n",
    "    try:\n",
    "        followers = profile.followers\n",
    "        likes, comments,post_dates = [], [], []\n",
    "\n",
    "        for post in profile.get_posts():\n",
    "            if(datetime.now()-post.date).days<=180:\n",
    "                likes.append(post.likes)\n",
    "                comments.append(post.comments)\n",
    "                post_dates.append(post.date.strftime('%Y-%m'))\n",
    "            else:\n",
    "                break\n",
    "        # Calculate monthly engagement rates\n",
    "        engagement_rates = {}\n",
    "        for date, like, comment in zip(post_dates, likes, comments):\n",
    "            if date not in engagement_rates:\n",
    "                engagement_rates[date] = {'likes': 0, 'comments': 0, 'count': 0}\n",
    "            engagement_rates[date]['likes'] += like\n",
    "            engagement_rates[date]['comments'] += comment\n",
    "            engagement_rates[date]['count'] += 1\n",
    "        \n",
    "        # Compute monthly rates\n",
    "        monthly_engagement_rate = {}\n",
    "        for date, data in engagement_rates.items():\n",
    "            total_engagement = data['likes'] + data['comments']\n",
    "            monthly_engagement_rate[date] = (total_engagement / (followers * data['count'])) * 100\n",
    "        \n",
    "        # Plot engagement rate graph\n",
    "        plot_engagement_rate(monthly_engagement_rate)\n",
    "        return monthly_engagement_rate\n",
    "    except Exception as e:\n",
    "        print(f\"Error calculating engagement rate: {e}\")\n",
    "        return None\n",
    "\n",
    "def plot_engagement_rate(monthly_engagement_rate):\n",
    "    \"\"\"\n",
    "    Plot a line graph of engagement rates over the last 6 months.\n",
    "    \"\"\"\n",
    "    months = list(monthly_engagement_rate.keys())\n",
    "    rates = list(monthly_engagement_rate.values())\n",
    "\n",
    "    plt.figure(figsize=(10, 6))\n",
    "    plt.plot(months, rates, marker='o', color='blue', label=\"Engagement Rate (%)\")\n",
    "    plt.xlabel(\"Month\")\n",
    "    plt.ylabel(\"Engagement Rate (%)\")\n",
    "    plt.title(\"Engagement Rate Over Last 6 Months\")\n",
    "    plt.grid()\n",
    "    plt.legend()\n",
    "    plt.xticks(rotation=45)\n",
    "    plt.tight_layout()\n",
    "    plt.show()\n",
    "\n"
   ]
  },
  {
   "cell_type": "markdown",
   "metadata": {},
   "source": [
    "#### Hashtag Categories "
   ]
  },
  {
   "cell_type": "code",
   "execution_count": 43,
   "metadata": {},
   "outputs": [],
   "source": [
    "HASHTAG_CATEGORIES = {\n",
    "    \"fashion\": [\"fashion\", \"style\", \"ootd\", \"trend\", \"vintage\", \"designer\"],\n",
    "    \"beauty\": [\"beauty\", \"makeup\", \"skincare\", \"cosmetics\", \"beautytips\"],\n",
    "    \"fitness\": [\"fitness\", \"workout\", \"health\", \"gym\", \"exercise\"],\n",
    "    \"travel\": [\"travel\", \"wanderlust\", \"adventure\", \"vacation\", \"destination\"],\n",
    "    \"food\": [\"food\", \"foodie\", \"yum\", \"recipe\", \"cooking\"],\n",
    "}\n",
    "\n",
    "def categorize_influencer_by_hashtags(profile):\n",
    "    \"\"\"\n",
    "    Categorize an influencer based on the hashtags in their posts.\n",
    "    \"\"\"\n",
    "    try:\n",
    "        hashtags = []\n",
    "        for post in profile.get_posts():\n",
    "            hashtags.extend(post.caption_hashtags)\n",
    "            if len(hashtags) >= 50:  # Limit to 50 posts\n",
    "                break\n",
    "\n",
    "        hashtag_counter = Counter(hashtags)\n",
    "        category_count = {category: 0 for category in HASHTAG_CATEGORIES}\n",
    "\n",
    "        for hashtag, count in hashtag_counter.items():\n",
    "            for category, keywords in HASHTAG_CATEGORIES.items():\n",
    "                if hashtag in keywords:\n",
    "                    category_count[category] += count\n",
    "\n",
    "        influencer_type = max(category_count, key=category_count.get)\n",
    "        print(f\"Categorized as a '{influencer_type}' influencer.\")\n",
    "        plot_hashtag_frequency(hashtag_counter)\n",
    "    except Exception as e:\n",
    "        print(f\"Error during categorization: {e}\")\n",
    "\n",
    "def plot_hashtag_frequency(hashtag_counter):\n",
    "    \"\"\"\n",
    "    Plot the frequency of top hashtags.\n",
    "    \"\"\"\n",
    "    common_hashtags = hashtag_counter.most_common(10)\n",
    "    hashtags, counts = zip(*common_hashtags)\n",
    "    plt.figure(figsize=(10, 6))\n",
    "    plt.barh(hashtags, counts, color='skyblue')\n",
    "    plt.xlabel('Frequency')\n",
    "    plt.title('Top 10 Most Frequent Hashtags')\n",
    "    plt.gca().invert_yaxis()\n",
    "    plt.show()\n"
   ]
  },
  {
   "cell_type": "markdown",
   "metadata": {},
   "source": [
    "##### Follower Growth Rate Formula:"
   ]
  },
  {
   "cell_type": "code",
   "execution_count": 44,
   "metadata": {},
   "outputs": [],
   "source": [
    "def calculate_growth_rate(profile):\n",
    "    \"\"\"\n",
    "    Calculate the monthly growth rate of followers.\n",
    "    \"\"\"\n",
    "    try:\n",
    "        followers_data = []  # Stores (date, followers_count)\n",
    "        for post in profile.get_posts():\n",
    "            if (datetime.now() - post.date).days <= 180:  # Limit to last 6 months\n",
    "                followers_data.append((post.date, profile.followers))\n",
    "            else:\n",
    "                break\n",
    "        \n",
    "        # Sort by date (optional if already sorted)\n",
    "        followers_data.sort(key=lambda x: x[0])\n",
    "\n",
    "        # Calculate growth rate\n",
    "        monthly_growth_rate = {}\n",
    "        for i in range(1, len(followers_data)):\n",
    "            prev_date, prev_followers = followers_data[i - 1]\n",
    "            curr_date, curr_followers = followers_data[i]\n",
    "            days_diff = (curr_date - prev_date).days\n",
    "            growth = ((curr_followers - prev_followers) / prev_followers) * 100 if prev_followers > 0 else 0\n",
    "            monthly_growth_rate[curr_date.strftime('%Y-%m')] = growth / (days_diff / 30)\n",
    "\n",
    "        # Plot the growth rate\n",
    "        plot_growth_rate(monthly_growth_rate)\n",
    "        return monthly_growth_rate\n",
    "    except Exception as e:\n",
    "        print(f\"Error calculating growth rate: {e}\")\n",
    "        return None\n",
    "\n",
    "def plot_growth_rate(monthly_growth_rate):\n",
    "    \"\"\"\n",
    "    Plot a bar chart of the monthly growth rate.\n",
    "    \"\"\"\n",
    "    months = list(monthly_growth_rate.keys())\n",
    "    growth_rates = list(monthly_growth_rate.values())\n",
    "\n",
    "    plt.figure(figsize=(10, 6))\n",
    "    plt.bar(months, growth_rates, color='orange', alpha=0.7, label=\"Growth Rate (%)\")\n",
    "    plt.xlabel(\"Month\")\n",
    "    plt.ylabel(\"Growth Rate (%)\")\n",
    "    plt.title(\"Follower Growth Rate Over Last 6 Months\")\n",
    "    plt.grid(axis='y')\n",
    "    plt.legend()\n",
    "    plt.xticks(rotation=45)\n",
    "    plt.tight_layout()\n",
    "    plt.show()"
   ]
  },
  {
   "cell_type": "markdown",
   "metadata": {},
   "source": [
    "##### Collaboration Rate:"
   ]
  },
  {
   "cell_type": "code",
   "execution_count": 45,
   "metadata": {},
   "outputs": [],
   "source": [
    "def calculate_collaboration_rate(profile):\n",
    "    \"\"\"\n",
    "    Calculate the collaboration rate based on sponsored posts and visualize with a pie chart.\n",
    "    \"\"\"\n",
    "    try:\n",
    "        total_posts = 0\n",
    "        sponsored_posts = 0\n",
    "        for post in profile.get_posts():\n",
    "            if (datetime.now() - post.date).days <= 180:\n",
    "                total_posts += 1\n",
    "                if '#sponsored' in post.caption or '#ad' in post.caption:\n",
    "                    sponsored_posts += 1\n",
    "            else:\n",
    "                break\n",
    "\n",
    "        collaboration_rate = (sponsored_posts / total_posts) * 100 if total_posts > 0 else 0\n",
    "        print(f\"Collaboration Rate: {collaboration_rate:.2f}%\")\n",
    "\n",
    "        # Visualization with pie chart\n",
    "        plot_collaboration_rate(sponsored_posts, total_posts - sponsored_posts)\n",
    "        return collaboration_rate\n",
    "    except Exception as e:\n",
    "        print(f\"Error calculating collaboration rate: {e}\")\n",
    "        return None\n",
    "\n",
    "def plot_collaboration_rate(sponsored_posts, organic_posts):\n",
    "    \"\"\"\n",
    "    Plot a pie chart of collaboration vs organic posts.\n",
    "    \"\"\"\n",
    "    labels = ['Sponsored Posts', 'Organic Posts']\n",
    "    sizes = [sponsored_posts, organic_posts]\n",
    "    colors = ['gold', 'lightblue']\n",
    "    explode = (0.1, 0)  # Emphasize the sponsored posts\n",
    "\n",
    "    plt.figure(figsize=(8, 8))\n",
    "    plt.pie(sizes, explode=explode, labels=labels, colors=colors, autopct='%1.1f%%',\n",
    "            shadow=True, startangle=140)\n",
    "    plt.title(\"Collaboration Rate (Sponsored vs Organic Posts)\")\n",
    "    plt.axis('equal')  # Equal aspect ratio ensures a circular pie chart\n",
    "    plt.show()"
   ]
  },
  {
   "cell_type": "markdown",
   "metadata": {},
   "source": [
    "#### Estimate earnings per post based on followers and engagement rate"
   ]
  },
  {
   "cell_type": "code",
   "execution_count": 46,
   "metadata": {},
   "outputs": [],
   "source": [
    "def estimate_earnings(followers, engagement_rate):\n",
    "    \"\"\"\n",
    "    Estimate earnings per post based on followers and engagement rate.\n",
    "    \"\"\"\n",
    "    rate_per_1000 = 0.10  # $0.10 per 1,000 followers\n",
    "    estimated_earnings = (followers * engagement_rate) / 1000 * rate_per_1000\n",
    "    return estimated_earnings\n",
    "\n",
    "def plot_estimated_earnings(monthly_engagement_rate, followers):\n",
    "    \"\"\"\n",
    "    Plot a bar chart of estimated earnings over the last 6 months.\n",
    "    \"\"\"\n",
    "    months = list(monthly_engagement_rate.keys())\n",
    "    earnings = [estimate_earnings(followers, rate) for rate in monthly_engagement_rate.values()]\n",
    "\n",
    "    plt.figure(figsize=(10, 6))\n",
    "    plt.bar(months, earnings, color='green', alpha=0.7, label=\"Earnings ($)\")\n",
    "    plt.xlabel(\"Month\")\n",
    "    plt.ylabel(\"Estimated Earnings ($)\")\n",
    "    plt.title(\"Estimated Earnings Per Month\")\n",
    "    plt.grid(axis='y')\n",
    "    plt.legend()\n",
    "    plt.xticks(rotation=45)\n",
    "    plt.tight_layout()\n",
    "    plt.show()\n",
    "\n"
   ]
  },
  {
   "cell_type": "markdown",
   "metadata": {},
   "source": [
    "#### Function to analyze an Instagram Profile "
   ]
  },
  {
   "cell_type": "code",
   "execution_count": null,
   "metadata": {},
   "outputs": [],
   "source": [
    "def instagram_analysis():\n",
    "\n",
    "    session_id = input(\"Enter your Instagram session ID: \")\n",
    "    username = input(\"Enter the Instagram username to analyze: \")\n",
    "    \n",
    "    loader = load_instagram_session(session_id)\n",
    "    if not loader:\n",
    "        return\n",
    "    \n",
    "    profile = fetch_profile_data(username, loader)\n",
    "    if not profile:\n",
    "        return\n",
    "    \n",
    "    print(\"\\n--- Hashtag Categorization ---\")\n",
    "    categorize_influencer_by_hashtags(profile)\n",
    "    \n",
    "    print(\"\\n--- Engagement Rate Analysis ---\")\n",
    "    monthly_engagement_rate = analyze_engagement_rate(profile)\n",
    "    \n",
    "    print(\"\\n--- Estimated Earnings ---\")\n",
    "    if monthly_engagement_rate:\n",
    "        plot_estimated_earnings(monthly_engagement_rate, profile.followers)\n",
    "    print(\"\\n--- Growth Rate Analysis ---\")\n",
    "    monthly_growth_rate = calculate_growth_rate(profile)\n",
    "\n",
    "    print(\"\\n--- Collaboration Rate ---\")\n",
    "    collaboration_rate = calculate_collaboration_rate(profile)\n",
    "\n",
    "\n",
    "# Run the Analysis\n",
    "instagram_analysis()\n"
   ]
  }
 ],
 "metadata": {
  "kernelspec": {
   "display_name": "Python 3",
   "language": "python",
   "name": "python3"
  },
  "language_info": {
   "codemirror_mode": {
    "name": "ipython",
    "version": 3
   },
   "file_extension": ".py",
   "mimetype": "text/x-python",
   "name": "python",
   "nbconvert_exporter": "python",
   "pygments_lexer": "ipython3",
   "version": "3.13.1"
  }
 },
 "nbformat": 4,
 "nbformat_minor": 2
}
